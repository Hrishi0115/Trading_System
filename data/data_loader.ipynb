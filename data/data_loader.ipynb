{
 "cells": [
  {
   "cell_type": "code",
   "execution_count": 14,
   "metadata": {},
   "outputs": [
    {
     "name": "stdout",
     "output_type": "stream",
     "text": [
      "Fetching data for Bitcoin...\n"
     ]
    },
    {
     "name": "stderr",
     "output_type": "stream",
     "text": [
      "$BITCOIN: possibly delisted; no price data found  (period=1y) (Yahoo error = \"No data found, symbol may be delisted\")\n"
     ]
    },
    {
     "name": "stdout",
     "output_type": "stream",
     "text": [
      "No data found for Bitcoin\n"
     ]
    }
   ],
   "source": [
    "import yfinance as yf\n",
    "import pandas as pd\n",
    "import os\n",
    "import multiprocessing\n",
    "\n",
    "# Define the list of stock tickers you want to fetch\n",
    "# TICKERS = [\n",
    "#     \"AAPL\", \"MSFT\", \"GOOGL\", \"AMZN\", \"TSLA\", \"NVDA\", \"META\", \"NFLX\",\n",
    "#     \"JPM\", \"BAC\", \"GS\", \"MS\", \"V\", \"MA\", \"PYPL\", \"BRK-B\", \"XOM\", \"CVX\"\n",
    "# ]\n",
    "\n",
    "# TICKERS = {\n",
    "#     \"SP500\": \"^GSPC\",   # S&P 500 Index\n",
    "#     \"NASDAQ_100\": \"^NDX\",  # Nasdaq-100\n",
    "#     \"DOW_JONES\": \"^DJI\",  # Dow Jones\n",
    "#     \"RUSSELL_2000\": \"^RUT\",  # Russell 2000\n",
    "#     \"SPY_ETF\": \"SPY\",  # S&P 500 ETF\n",
    "#     \"QQQ_ETF\": \"QQQ\",  # Nasdaq ETF\n",
    "#     \"IWM_ETF\": \"IWM\",  # Russell 2000 ETF\n",
    "#     \"VIXY_ETF\": \"VIXY\",  # Volatility ETF\n",
    "#     \"TLT_ETF\": \"TLT\",  # Treasury bonds ETF\n",
    "#     \"GLD_ETF\": \"GLD\",  # Gold ETF\n",
    "#     \"USO_ETF\": \"USO\",  # Crude Oil ETF\n",
    "#     \"AAPL\": \"AAPL\",\n",
    "#     \"MSFT\": \"MSFT\",\n",
    "#     \"GOOGL\": \"GOOGL\",\n",
    "#     \"AMZN\": \"AMZN\",\n",
    "#     \"META\": \"META\",\n",
    "#     \"NFLX\": \"NFLX\",\n",
    "#     \"NVDA\": \"NVDA\",\n",
    "#     \"TSLA\": \"TSLA\",\n",
    "#     \"JPM\": \"JPM\",\n",
    "#     \"BAC\": \"BAC\",\n",
    "#     \"GS\": \"GS\",\n",
    "#     \"MS\": \"MS\",\n",
    "#     \"BRK-B\": \"BRK-B\",\n",
    "#     \"JNJ\": \"JNJ\",\n",
    "#     \"PFE\": \"PFE\",\n",
    "#     \"UNH\": \"UNH\",\n",
    "#     \"XOM\": \"XOM\",\n",
    "#     \"CVX\": \"CVX\"\n",
    "# }\n",
    "\n",
    "TICKERS = {\n",
    "    \"Bitcoin\": \"BTC-USD\",\n",
    "    # \"Ethereum\": \"ETH-USD\",\n",
    "    # \"Solana\": \"SOL-USD\",\n",
    "    # \"Binance_Coin\": \"BNB-USD\",\n",
    "    # \"Ripple\": \"XRP-USD\",\n",
    "    # \"Cardano\": \"ADA-USD\",\n",
    "    # \"Dogecoin\": \"DOGE-USD\",\n",
    "    # \"Polygon\": \"MATIC-USD\",\n",
    "    # \"Total_Crypto_Market_Cap\": \"TOTAL-CRYPTO-CAP\",\n",
    "    # \"Bitcoin_Dominance\": \"BTC.D\"\n",
    "}\n",
    "\n",
    "# Set the output directory\n",
    "OUTPUT_DIR = \"cryto_market_data\"\n",
    "os.makedirs(OUTPUT_DIR, exist_ok=True)  # Create the directory if it doesn't exist\n",
    "\n",
    "# Function to fetch and save data for one stock\n",
    "def fetch_and_save_stock_data(ticker):\n",
    "    try:\n",
    "        print(f\"Fetching data for {ticker}...\")\n",
    "        stock = yf.Ticker(ticker)\n",
    "        df = stock.history(period=\"1y\")  # Fetch last 5 years of data\n",
    "        \n",
    "        if df.empty:\n",
    "            print(f\"No data found for {ticker}\")\n",
    "            return\n",
    "        \n",
    "        # Save to CSV\n",
    "        file_path = os.path.join(OUTPUT_DIR, f\"{ticker}.csv\")\n",
    "        df.to_csv(file_path)\n",
    "        print(f\"Saved: {file_path}\")\n",
    "\n",
    "    except Exception as e:\n",
    "        print(f\"Error fetching {ticker}: {e}\")\n",
    "\n",
    "with multiprocessing.Pool(processes=5) as pool:\n",
    "    pool.map(fetch_and_save_stock_data, TICKERS)"
   ]
  },
  {
   "cell_type": "code",
   "execution_count": null,
   "metadata": {},
   "outputs": [],
   "source": []
  },
  {
   "cell_type": "code",
   "execution_count": 4,
   "metadata": {},
   "outputs": [
    {
     "name": "stdout",
     "output_type": "stream",
     "text": [
      "Fetching RISK_FREE_RATE_10Y (^TNX)...\n",
      "✅ Saved: macro_data/RISK_FREE_RATE_10Y.csv\n",
      "Fetching RISK_FREE_RATE_2Y (^IRX)...\n",
      "✅ Saved: macro_data/RISK_FREE_RATE_2Y.csv\n",
      "Fetching SP500 (^GSPC)...\n",
      "✅ Saved: macro_data/SP500.csv\n",
      "Fetching VIX (^VIX)...\n",
      "✅ Saved: macro_data/VIX.csv\n",
      "Fetching FED_FUNDS_RATE (FEDFUNDS)...\n"
     ]
    },
    {
     "name": "stderr",
     "output_type": "stream",
     "text": [
      "$FEDFUNDS: possibly delisted; no price data found  (period=15y) (Yahoo error = \"No data found, symbol may be delisted\")\n"
     ]
    },
    {
     "name": "stdout",
     "output_type": "stream",
     "text": [
      "No data found for FED_FUNDS_RATE\n",
      "Fetching INFLATION_CPI (CPIAUCSL)...\n"
     ]
    },
    {
     "name": "stderr",
     "output_type": "stream",
     "text": [
      "$CPIAUCSL: possibly delisted; no price data found  (period=15y) (Yahoo error = \"No data found, symbol may be delisted\")\n"
     ]
    },
    {
     "name": "stdout",
     "output_type": "stream",
     "text": [
      "No data found for INFLATION_CPI\n",
      "Fetching UNEMPLOYMENT_RATE (UNRATE)...\n"
     ]
    },
    {
     "name": "stderr",
     "output_type": "stream",
     "text": [
      "$UNRATE: possibly delisted; no price data found  (period=15y) (Yahoo error = \"No data found, symbol may be delisted\")\n"
     ]
    },
    {
     "name": "stdout",
     "output_type": "stream",
     "text": [
      "No data found for UNEMPLOYMENT_RATE\n",
      "✅ All macroeconomic data has been saved in the 'macro_data' folder.\n"
     ]
    }
   ],
   "source": [
    "import yfinance as yf\n",
    "import pandas as pd\n",
    "import os\n",
    "\n",
    "# Macroeconomic indicators to fetch\n",
    "MACRO_TICKERS = {\n",
    "    \"RISK_FREE_RATE_10Y\": \"^TNX\",   # 10-Year Treasury Yield\n",
    "    \"RISK_FREE_RATE_2Y\": \"^IRX\",    # 2-Year Treasury Yield\n",
    "    \"SP500\": \"^GSPC\",               # S&P 500 Index\n",
    "    \"VIX\": \"^VIX\",                  # Volatility Index (Market Fear Gauge)\n",
    "    \"FED_FUNDS_RATE\": \"FEDFUNDS\",   # Federal Funds Rate (U.S. Central Bank Rate)\n",
    "    \"INFLATION_CPI\": \"CPIAUCSL\",    # Consumer Price Index (Inflation)\n",
    "    \"UNEMPLOYMENT_RATE\": \"UNRATE\"   # U.S. Unemployment Rate\n",
    "}\n",
    "\n",
    "# Directory to store files\n",
    "OUTPUT_DIR = \"macro_data\"\n",
    "os.makedirs(OUTPUT_DIR, exist_ok=True)  # Ensure the directory exists\n",
    "\n",
    "# Fetch data and save each indicator to a separate CSV file\n",
    "def fetch_macro_data():\n",
    "    for label, ticker in MACRO_TICKERS.items():\n",
    "        try:\n",
    "            print(f\"Fetching {label} ({ticker})...\")\n",
    "            data = yf.Ticker(ticker).history(period=\"15y\")\n",
    "\n",
    "            if data.empty:\n",
    "                print(f\"No data found for {label}\")\n",
    "                continue\n",
    "\n",
    "            # Save to separate CSV file\n",
    "            file_path = os.path.join(OUTPUT_DIR, f\"{label}.csv\")\n",
    "            data.to_csv(file_path)\n",
    "            print(f\"✅ Saved: {file_path}\")\n",
    "\n",
    "        except Exception as e:\n",
    "            print(f\"❌ Error fetching {label}: {e}\")\n",
    "\n",
    "fetch_macro_data()\n",
    "print(\"✅ All macroeconomic data has been saved in the 'macro_data' folder.\")\n"
   ]
  },
  {
   "cell_type": "code",
   "execution_count": 16,
   "metadata": {},
   "outputs": [
    {
     "name": "stdout",
     "output_type": "stream",
     "text": [
      "Fetching data for Bitcoin (BTC-USD)...\n",
      "✅ Saved: crypto_data_!5/Bitcoin.csv\n",
      "Fetching data for Ethereum (ETH-USD)...\n",
      "✅ Saved: crypto_data_!5/Ethereum.csv\n",
      "Fetching data for Solana (SOL-USD)...\n",
      "✅ Saved: crypto_data_!5/Solana.csv\n",
      "Fetching data for Binance_Coin (BNB-USD)...\n",
      "✅ Saved: crypto_data_!5/Binance_Coin.csv\n",
      "Fetching data for Ripple (XRP-USD)...\n",
      "✅ Saved: crypto_data_!5/Ripple.csv\n",
      "Fetching data for Cardano (ADA-USD)...\n",
      "✅ Saved: crypto_data_!5/Cardano.csv\n",
      "Fetching data for Dogecoin (DOGE-USD)...\n",
      "✅ Saved: crypto_data_!5/Dogecoin.csv\n",
      "Fetching data for Polygon (MATIC-USD)...\n",
      "✅ Saved: crypto_data_!5/Polygon.csv\n",
      "Fetching data for Total_Crypto_Market_Cap (TOTAL-CRYPTO-CAP)...\n"
     ]
    },
    {
     "name": "stderr",
     "output_type": "stream",
     "text": [
      "$TOTAL-CRYPTO-CAP: possibly delisted; no price data found  (period=15y) (Yahoo error = \"No data found, symbol may be delisted\")\n"
     ]
    },
    {
     "name": "stdout",
     "output_type": "stream",
     "text": [
      "No data found for Total_Crypto_Market_Cap\n",
      "Fetching data for Bitcoin_Dominance (BTC.D)...\n"
     ]
    },
    {
     "name": "stderr",
     "output_type": "stream",
     "text": [
      "$BTC.D: possibly delisted; no price data found  (period=15y) (Yahoo error = \"No data found, symbol may be delisted\")\n"
     ]
    },
    {
     "name": "stdout",
     "output_type": "stream",
     "text": [
      "No data found for Bitcoin_Dominance\n",
      "✅ All crypto data has been saved in the 'crypto_data' folder.\n"
     ]
    }
   ],
   "source": [
    "import yfinance as yf\n",
    "import pandas as pd\n",
    "import os\n",
    "import time\n",
    "\n",
    "# Define crypto assets (vs USD)\n",
    "CRYPTO_TICKERS = {\n",
    "    \"Bitcoin\": \"BTC-USD\",\n",
    "    \"Ethereum\": \"ETH-USD\",\n",
    "    \"Solana\": \"SOL-USD\",\n",
    "    \"Binance_Coin\": \"BNB-USD\",\n",
    "    \"Ripple\": \"XRP-USD\",\n",
    "    \"Cardano\": \"ADA-USD\",\n",
    "    \"Dogecoin\": \"DOGE-USD\",\n",
    "    \"Polygon\": \"MATIC-USD\",\n",
    "    \"Total_Crypto_Market_Cap\": \"TOTAL-CRYPTO-CAP\",\n",
    "    \"Bitcoin_Dominance\": \"BTC.D\"\n",
    "}\n",
    "\n",
    "# Directory to store files\n",
    "OUTPUT_DIR = \"crypto_data_15\"\n",
    "os.makedirs(OUTPUT_DIR, exist_ok=True)  # Ensure directory exists\n",
    "\n",
    "# Function to fetch and save crypto data\n",
    "def fetch_crypto_data(label, ticker):\n",
    "    try:\n",
    "        print(f\"Fetching data for {label} ({ticker})...\")\n",
    "        crypto = yf.Ticker(ticker)\n",
    "        df = crypto.history(period=\"15y\")\n",
    "\n",
    "        if df.empty:\n",
    "            print(f\"No data found for {label}\")\n",
    "            return\n",
    "\n",
    "        # Save to separate CSV file\n",
    "        file_path = os.path.join(OUTPUT_DIR, f\"{label}.csv\")\n",
    "        df.to_csv(file_path)\n",
    "        print(f\"✅ Saved: {file_path}\")\n",
    "\n",
    "    except Exception as e:\n",
    "        print(f\"❌ Error fetching {label} ({ticker}): {e}\")\n",
    "\n",
    "# Fetch data sequentially (one by one)\n",
    "if __name__ == \"__main__\":\n",
    "    for label, ticker in CRYPTO_TICKERS.items():\n",
    "        fetch_crypto_data(label, ticker)\n",
    "        time.sleep(2)  # Small delay to avoid hitting Yahoo API limits\n",
    "\n",
    "    print(\"✅ All crypto data has been saved in the 'crypto_data' folder.\")\n"
   ]
  }
 ],
 "metadata": {
  "kernelspec": {
   "display_name": "venv",
   "language": "python",
   "name": "python3"
  },
  "language_info": {
   "codemirror_mode": {
    "name": "ipython",
    "version": 3
   },
   "file_extension": ".py",
   "mimetype": "text/x-python",
   "name": "python",
   "nbconvert_exporter": "python",
   "pygments_lexer": "ipython3",
   "version": "3.10.12"
  }
 },
 "nbformat": 4,
 "nbformat_minor": 2
}
