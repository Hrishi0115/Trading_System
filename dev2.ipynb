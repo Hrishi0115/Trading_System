{
 "cells": [
  {
   "cell_type": "code",
   "execution_count": null,
   "metadata": {},
   "outputs": [
    {
     "data": {
      "text/plain": [
       "65477.0"
      ]
     },
     "execution_count": 14,
     "metadata": {},
     "output_type": "execute_result"
    }
   ],
   "source": [
    "import pandas as pd\n",
    "\n",
    "class Position:\n",
    "    def __init__(self, symbol, quantity, price):\n",
    "        self.symbol = symbol\n",
    "        self.quantity = quantity\n",
    "        self.average_price = price\n",
    "        self.value = self.quantity * self.average_price\n",
    "\n",
    "# symbol in Position is unneccessary but included for completeness\n",
    "\n",
    "# The underscore (_) in front of a variable name indicates that the variable is intended to be private and should not be\n",
    "# accessed directly from outside the class -> internal use only\n",
    "\n",
    "# Properties and Setters are used to control access to an attribute and to add logic when getting or setting the attribute's\n",
    "# value -> you can define methods that act like attributes, providing a way to encapsulate the internal representation of the\n",
    "# data.\n",
    "\n",
    "# For example\n",
    "\n",
    "test_positions = {\"AAPL\": Position(\"AAPL\", 100, 192.27),\n",
    "                  \"MSFT\": Position(\"MSFT\", 100, 362.50)}\n",
    "\n",
    "class Book:\n",
    "    def __init__(self, initial_cash):\n",
    "        self._cash = initial_cash\n",
    "        self._positions = {}\n",
    "        self.nav = self.calculate_nav()\n",
    "        self.trade_history = pd.DataFrame(columns=[\"trade_id\", \"symbol\", \"direction\", \"quantity\", \"price\", \"amount\", \"date\"]).set_index(\"trade_id\")\n",
    "        self.cash_history = [initial_cash]\n",
    "\n",
    "    # The @property decorator is used to define a getter method \n",
    "    @property\n",
    "    def cash(self):\n",
    "        return self._cash\n",
    "    \n",
    "    #@cash.setter\n",
    "\n",
    "\n",
    "    # utility function\n",
    "    def calculate_nav(self):\n",
    "        return self._cash + sum(pos.value for pos in self._positions.values())\n",
    "\n",
    "book = Book(10000)\n",
    "\n",
    "book._positions = test_positions\n",
    "\n",
    "book.calculate_nav()\n",
    "\n",
    "# sum(pos.value for pos in book._positions.values())\n"
   ]
  },
  {
   "cell_type": "code",
   "execution_count": null,
   "metadata": {},
   "outputs": [],
   "source": [
    "\n"
   ]
  }
 ],
 "metadata": {
  "kernelspec": {
   "display_name": "venv",
   "language": "python",
   "name": "python3"
  },
  "language_info": {
   "codemirror_mode": {
    "name": "ipython",
    "version": 3
   },
   "file_extension": ".py",
   "mimetype": "text/x-python",
   "name": "python",
   "nbconvert_exporter": "python",
   "pygments_lexer": "ipython3",
   "version": "3.8.10"
  }
 },
 "nbformat": 4,
 "nbformat_minor": 2
}
